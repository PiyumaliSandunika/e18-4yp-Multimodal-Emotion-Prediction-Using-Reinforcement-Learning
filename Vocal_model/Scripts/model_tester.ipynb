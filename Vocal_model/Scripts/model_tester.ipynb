{
 "cells": [
  {
   "cell_type": "code",
   "execution_count": 15,
   "metadata": {},
   "outputs": [],
   "source": [
    "import tensorflow as tf\n",
    "import cv2\n",
    "\n",
    "# Load the saved model\n",
    "model = tf.keras.models.load_model(\"C:\\Ruchira\\Academic\\.IMMEDIATE\\FYP\\FYP\\Models\\\\rein_model.keras\")\n",
    "\n",
    "# Preprocess the image\n",
    "def preprocess_image(image_path):\n",
    "    image = cv2.imread(image_path)\n",
    "    image = cv2.cvtColor(image, cv2.COLOR_BGR2GRAY)  # Convert to grayscale if necessary\n",
    "    image = cv2.resize(image, (28, 28))  # Resize to match model input shape\n",
    "    image = image / 255.0  # Normalize pixel values\n",
    "    image = image.reshape((1, 28, 28, 1))  # Add batch dimension and channel dimension\n",
    "    return image\n",
    "\n",
    "\n",
    "def predict(path):\n",
    "    # Example image path\n",
    "    # image_path = \"C:\\Ruchira\\Academic\\.IMMEDIATE\\FYP\\FYP\\Datasets\\Personalized\\Image\\Original\\Happy\\Photo-1.jpeg\"\n",
    "\n",
    "    # Preprocess the image\n",
    "    preprocessed_image = preprocess_image(path)\n",
    "\n",
    "    # Make predictions\n",
    "    predictions = model.predict(preprocessed_image)\n",
    "\n",
    "    # Get the predicted class\n",
    "    predicted_class = tf.argmax(predictions, axis=1)[0].numpy()\n",
    "\n",
    "    # Print the predicted class\n",
    "    print(\"Predicted class:\", predicted_class)"
   ]
  },
  {
   "cell_type": "code",
   "execution_count": 17,
   "metadata": {},
   "outputs": [
    {
     "name": "stdout",
     "output_type": "stream",
     "text": [
      "1/1 [==============================] - 0s 113ms/step\n",
      "Predicted class: 3\n"
     ]
    }
   ],
   "source": [
    "predict(\"C:\\Ruchira\\Academic\\.IMMEDIATE\\FYP\\FYP\\Datasets\\Personalized\\Image\\Original\\Happy\\Photo-1.jpeg\")"
   ]
  }
 ],
 "metadata": {
  "kernelspec": {
   "display_name": "Python 3",
   "language": "python",
   "name": "python3"
  },
  "language_info": {
   "codemirror_mode": {
    "name": "ipython",
    "version": 3
   },
   "file_extension": ".py",
   "mimetype": "text/x-python",
   "name": "python",
   "nbconvert_exporter": "python",
   "pygments_lexer": "ipython3",
   "version": "3.11.4"
  }
 },
 "nbformat": 4,
 "nbformat_minor": 2
}
